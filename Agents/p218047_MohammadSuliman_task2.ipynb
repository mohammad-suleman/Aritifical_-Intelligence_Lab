{
 "cells": [
  {
   "cell_type": "code",
   "execution_count": 2,
   "metadata": {},
   "outputs": [
    {
     "name": "stdout",
     "output_type": "stream",
     "text": [
      "deactivates the watering system\n",
      "activates the watering system\n"
     ]
    }
   ],
   "source": [
    "percept = ['dry', 'moist','wet']\n",
    "state = ['Dry_soil', 'moist_soil,','wet_state']\n",
    "rules = ['activates the watering system', 'water system off','deactivates the watering system']\n",
    "\n",
    "def getState(percept_value):\n",
    "    index = -1\n",
    "    for x in percept:\n",
    "        index = index+1\n",
    "        if x == percept_value:\n",
    "            return state[index]\n",
    "\n",
    "def getRules(state_value):\n",
    "    index = -1\n",
    "    for i in state:\n",
    "        index = index+1\n",
    "        if i == state_value:\n",
    "            return rules[index]\n",
    "\n",
    "def simpleReflexAgent(percep):\n",
    "    return getRules(getState(percep))\n",
    "\n",
    "#set a variable to keep track of the number of boxes \n",
    "count = 0\n",
    "while count < 10:\n",
    "    # robot receive visual input from its camera\n",
    "    visual_input = input(\"What is the moiture level?\")\n",
    "    rule = simpleReflexAgent(visual_input)\n",
    "    print(rule)\n",
    "    # robot execute the rule\n",
    "    count += 1\n",
    "    # increment the box_count variable after each iteration\n"
   ]
  },
  {
   "cell_type": "code",
   "execution_count": 3,
   "metadata": {},
   "outputs": [
    {
     "name": "stdout",
     "output_type": "stream",
     "text": [
      "sprinkler system will activate\n",
      "normal state\n"
     ]
    }
   ],
   "source": [
    "percept = ['smoke_detected', 'high_temperature','normal']\n",
    "state = ['alarm_sound,', 'alarm_sound,','noraml_state']\n",
    "rules = ['sprinkler system will activate', 'fire department will be called','normal state']\n",
    "\n",
    "def getState(percept_value):\n",
    "    index = -1\n",
    "    for x in percept:\n",
    "        index = index+1\n",
    "        if x == percept_value:\n",
    "            return state[index]\n",
    "\n",
    "def getRules(state_value):\n",
    "    index = -1\n",
    "    for i in state:\n",
    "        index = index+1\n",
    "        if i == state_value:\n",
    "            return rules[index]\n",
    "\n",
    "def simpleReflexAgent(percep):\n",
    "    return getRules(getState(percep))\n",
    "\n",
    "#set a variable to keep track of the number of boxes \n",
    "count = 0\n",
    "while count < 10:\n",
    "    # robot receive visual input from its camera\n",
    "    visual_input = input(\"What is the perception?\")\n",
    "    rule = simpleReflexAgent(visual_input)\n",
    "    print(rule)\n",
    "    # robot execute the rule\n",
    "    count += 1\n",
    "    # increment the box_count variable after each iteration"
   ]
  }
 ],
 "metadata": {
  "kernelspec": {
   "display_name": "Python 3",
   "language": "python",
   "name": "python3"
  },
  "language_info": {
   "codemirror_mode": {
    "name": "ipython",
    "version": 3
   },
   "file_extension": ".py",
   "mimetype": "text/x-python",
   "name": "python",
   "nbconvert_exporter": "python",
   "pygments_lexer": "ipython3",
   "version": "3.11.7"
  }
 },
 "nbformat": 4,
 "nbformat_minor": 2
}
